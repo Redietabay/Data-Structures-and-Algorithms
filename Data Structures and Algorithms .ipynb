{
 "cells": [
  {
   "attachments": {},
   "cell_type": "markdown",
   "metadata": {},
   "source": [
    "                                Data Structures and Algorithms Assignment\n",
    "                                 title:- sorted Algorithms\n",
    "                                Name: Rediet Abay\n",
    "                                ID: DBU1601572\n",
    "                                Department: Data Science\n",
    "                                GitHub: Redietabay\n",
    "                                submit to:- Mr petros Abebe\n",
    "                                submit day:-April17\n"
   ]
  },
  {
   "attachments": {},
   "cell_type": "markdown",
   "metadata": {},
   "source": [
    "The  students dataset contains information about 10 university students from four departments: Data Science (DS), Computer Science (CS), Information Systems (IS), and Information Technology (IT). Each student’s record includes a unique ID, name, department, and  Cumulative Grade Point Average(CGPA).The data is organized as a list of dictionaries in Python.This dataset can be used for sorting."
   ]
  },
  {
   "cell_type": "code",
   "execution_count": 17,
   "metadata": {},
   "outputs": [],
   "source": [
    "students = [\n",
    "    {'id':'DBU1500010', 'name': 'Dawit', 'dept': 'DS', 'cgpa': 3.34},\n",
    "    {'id':'DBU1500002', 'name': 'hemen', 'dept': 'CS', 'cgpa': 3.12},\n",
    "    {'id':'DBU1500011', 'name': 'Abel', 'dept': 'DS', 'cgpa': 2.74},\n",
    "    {'id':'DBU1500004', 'name': 'Rahel', 'dept': 'IS', 'cgpa': 3.10},\n",
    "    {'id':'DBU1500009', 'name': 'heln', 'dept': 'IT', 'cgpa': 3.25},\n",
    "    {'id':'DBU1500007', 'name': 'muse', 'dept': 'CS', 'cgpa': 2.90},\n",
    "    {'id':'DBU1500001', 'name': 'Bethel', 'dept': 'IS', 'cgpa': 3.40},\n",
    "    {'id':'DBU1500008', 'name': 'hermela', 'dept': 'CS', 'cgpa': 3.00},\n",
    "    {'id':'DBU1500006', 'name': 'kalkidan', 'dept': 'DS', 'cgpa': 3.60},\n",
    "    {'id':'DBU1500003', 'name': 'kokeb', 'dept': 'IT', 'cgpa': 2.85},\n",
    "    {'id':'DBU1500012', 'name': 'robel', 'dept': 'CS', 'cgpa': 3.15},\n",
    "    {'id':'DBU1500013', 'name': 'naomi', 'dept': 'DS', 'cgpa': 3.45},\n",
    "    {'id':'DBU1500014', 'name': 'hayat', 'dept': 'IS', 'cgpa': 2.95},\n",
    "    {'id':'DBU1500015', 'name': 'halima', 'dept': 'IT', 'cgpa': 3.20},\n",
    "    {'id':'DBU1500016', 'name': 'samria', 'dept': 'CS', 'cgpa': 3.05},\n",
    "    {'id':'DBU1500017', 'name': 'tedy', 'dept': 'DS', 'cgpa': 2.80},\n",
    "    {'id':'DBU1500018', 'name': 'makbel', 'dept': 'IS', 'cgpa': 3.30},\n",
    "    {'id':'DBU1500019', 'name': 'bruki', 'dept': 'IT', 'cgpa': 3.10},\n",
    "    {'id':'DBU1500020', 'name': 'tsinat', 'dept': 'CS', 'cgpa': 2.90},\n",
    "    {'id':'DBU1500021', 'name': 'henok', 'dept': 'DS', 'cgpa': 3.50}\n",
    "]"
   ]
  },
  {
   "attachments": {},
   "cell_type": "markdown",
   "metadata": {},
   "source": [
    "use pandas library make data frame it use show students  data in table form  "
   ]
  },
  {
   "cell_type": "code",
   "execution_count": 18,
   "metadata": {},
   "outputs": [
    {
     "name": "stdout",
     "output_type": "stream",
     "text": [
      "            id      name dept  cgpa\n",
      "0   DBU1500010     Dawit   DS  3.34\n",
      "1   DBU1500002     hemen   CS  3.12\n",
      "2   DBU1500011      Abel   DS  2.74\n",
      "3   DBU1500004     Rahel   IS  3.10\n",
      "4   DBU1500009      heln   IT  3.25\n",
      "5   DBU1500007      muse   CS  2.90\n",
      "6   DBU1500001    Bethel   IS  3.40\n",
      "7   DBU1500008   hermela   CS  3.00\n",
      "8   DBU1500006  kalkidan   DS  3.60\n",
      "9   DBU1500003     kokeb   IT  2.85\n",
      "10  DBU1500012     robel   CS  3.15\n",
      "11  DBU1500013     naomi   DS  3.45\n",
      "12  DBU1500014     hayat   IS  2.95\n",
      "13  DBU1500015    halima   IT  3.20\n",
      "14  DBU1500016    samria   CS  3.05\n",
      "15  DBU1500017      tedy   DS  2.80\n",
      "16  DBU1500018    makbel   IS  3.30\n",
      "17  DBU1500019     bruki   IT  3.10\n",
      "18  DBU1500020    tsinat   CS  2.90\n",
      "19  DBU1500021     henok   DS  3.50\n"
     ]
    }
   ],
   "source": [
    "import pandas as pd \n",
    "student_data=pd.DataFrame(students)\n",
    "print(student_data)"
   ]
  },
  {
   "attachments": {},
   "cell_type": "markdown",
   "metadata": {},
   "source": [
    "                  Bubble_Sort_by_id \n",
    " Bubble Sort is a simple sorting algorithm that compares two neighboring items in an array and swaps them if they are in the wrong order. It does it repeatedly until it has sorted the whole array. using student data, we can use Bubble Sort to sort the students by their ID. The algorithm scans each ID of the student and, when the ID is out of order, swaps the students. It repeats this process until all students are sorted according to their ID"
   ]
  },
  {
   "attachments": {},
   "cell_type": "markdown",
   "metadata": {},
   "source": [
    " This code is a simple way to sort student records by their ID using the Bubble Sort algorithm.\n"
   ]
  },
  {
   "cell_type": "code",
   "execution_count": 19,
   "metadata": {},
   "outputs": [
    {
     "name": "stdout",
     "output_type": "stream",
     "text": [
      "{'id': 'DBU1500001', 'name': 'Bethel', 'dept': 'IS', 'cgpa': 3.4}\n",
      "{'id': 'DBU1500002', 'name': 'hemen', 'dept': 'CS', 'cgpa': 3.12}\n",
      "{'id': 'DBU1500003', 'name': 'kokeb', 'dept': 'IT', 'cgpa': 2.85}\n",
      "{'id': 'DBU1500004', 'name': 'Rahel', 'dept': 'IS', 'cgpa': 3.1}\n",
      "{'id': 'DBU1500006', 'name': 'kalkidan', 'dept': 'DS', 'cgpa': 3.6}\n",
      "{'id': 'DBU1500007', 'name': 'muse', 'dept': 'CS', 'cgpa': 2.9}\n",
      "{'id': 'DBU1500008', 'name': 'hermela', 'dept': 'CS', 'cgpa': 3.0}\n",
      "{'id': 'DBU1500009', 'name': 'heln', 'dept': 'IT', 'cgpa': 3.25}\n",
      "{'id': 'DBU1500010', 'name': 'Dawit', 'dept': 'DS', 'cgpa': 3.34}\n",
      "{'id': 'DBU1500011', 'name': 'Abel', 'dept': 'DS', 'cgpa': 2.74}\n",
      "{'id': 'DBU1500012', 'name': 'robel', 'dept': 'CS', 'cgpa': 3.15}\n",
      "{'id': 'DBU1500013', 'name': 'naomi', 'dept': 'DS', 'cgpa': 3.45}\n",
      "{'id': 'DBU1500014', 'name': 'hayat', 'dept': 'IS', 'cgpa': 2.95}\n",
      "{'id': 'DBU1500015', 'name': 'halima', 'dept': 'IT', 'cgpa': 3.2}\n",
      "{'id': 'DBU1500016', 'name': 'samria', 'dept': 'CS', 'cgpa': 3.05}\n",
      "{'id': 'DBU1500017', 'name': 'tedy', 'dept': 'DS', 'cgpa': 2.8}\n",
      "{'id': 'DBU1500018', 'name': 'makbel', 'dept': 'IS', 'cgpa': 3.3}\n",
      "{'id': 'DBU1500019', 'name': 'bruki', 'dept': 'IT', 'cgpa': 3.1}\n",
      "{'id': 'DBU1500020', 'name': 'tsinat', 'dept': 'CS', 'cgpa': 2.9}\n",
      "{'id': 'DBU1500021', 'name': 'henok', 'dept': 'DS', 'cgpa': 3.5}\n"
     ]
    }
   ],
   "source": [
    "def bubble_sort(students):\n",
    "    n = len(students)\n",
    "    for i in range(n):\n",
    "        for j in range(0, n-i-1):\n",
    "            if students[j]['id'] > students[j+1]['id']:\n",
    "                students[j], students[j+1] = students[j+1], students[j]\n",
    "    return students\n",
    "sorted_students = bubble_sort(students)\n",
    "for student in sorted_students:\n",
    "    print(student)"
   ]
  },
  {
   "attachments": {},
   "cell_type": "markdown",
   "metadata": {},
   "source": [
    "                insertion_sort_by_name\n",
    "insertion Sort is a sorting algorithm that builds the final sorted list one item at a time. It iterates over each student in the unsorted section of the list and inserts it into its correct position in the sorted section.from the students' data, we can use Insertion Sort to sort the students according to the name. It starts from the second student and compares the student's name with the previous student's name. If the student's name at present is smaller (alphabetically), then the two students are interchanged. It continues doing the same until it sorts all students according to their name."
   ]
  },
  {
   "cell_type": "code",
   "execution_count": 20,
   "metadata": {},
   "outputs": [
    {
     "name": "stdout",
     "output_type": "stream",
     "text": [
      "{'id': 'DBU1500011', 'name': 'Abel', 'dept': 'DS', 'cgpa': 2.74}\n",
      "{'id': 'DBU1500001', 'name': 'Bethel', 'dept': 'IS', 'cgpa': 3.4}\n",
      "{'id': 'DBU1500010', 'name': 'Dawit', 'dept': 'DS', 'cgpa': 3.34}\n",
      "{'id': 'DBU1500004', 'name': 'Rahel', 'dept': 'IS', 'cgpa': 3.1}\n",
      "{'id': 'DBU1500019', 'name': 'bruki', 'dept': 'IT', 'cgpa': 3.1}\n",
      "{'id': 'DBU1500015', 'name': 'halima', 'dept': 'IT', 'cgpa': 3.2}\n",
      "{'id': 'DBU1500014', 'name': 'hayat', 'dept': 'IS', 'cgpa': 2.95}\n",
      "{'id': 'DBU1500009', 'name': 'heln', 'dept': 'IT', 'cgpa': 3.25}\n",
      "{'id': 'DBU1500002', 'name': 'hemen', 'dept': 'CS', 'cgpa': 3.12}\n",
      "{'id': 'DBU1500021', 'name': 'henok', 'dept': 'DS', 'cgpa': 3.5}\n",
      "{'id': 'DBU1500008', 'name': 'hermela', 'dept': 'CS', 'cgpa': 3.0}\n",
      "{'id': 'DBU1500006', 'name': 'kalkidan', 'dept': 'DS', 'cgpa': 3.6}\n",
      "{'id': 'DBU1500003', 'name': 'kokeb', 'dept': 'IT', 'cgpa': 2.85}\n",
      "{'id': 'DBU1500018', 'name': 'makbel', 'dept': 'IS', 'cgpa': 3.3}\n",
      "{'id': 'DBU1500007', 'name': 'muse', 'dept': 'CS', 'cgpa': 2.9}\n",
      "{'id': 'DBU1500013', 'name': 'naomi', 'dept': 'DS', 'cgpa': 3.45}\n",
      "{'id': 'DBU1500012', 'name': 'robel', 'dept': 'CS', 'cgpa': 3.15}\n",
      "{'id': 'DBU1500016', 'name': 'samria', 'dept': 'CS', 'cgpa': 3.05}\n",
      "{'id': 'DBU1500017', 'name': 'tedy', 'dept': 'DS', 'cgpa': 2.8}\n",
      "{'id': 'DBU1500020', 'name': 'tsinat', 'dept': 'CS', 'cgpa': 2.9}\n"
     ]
    }
   ],
   "source": [
    "def insertion_sort_by_name(students):\n",
    "    for i in range(1, len(students)):\n",
    "        current_student = students[i]\n",
    "        j = i - 1\n",
    "        while j >= 0 and students[j]['name'] > current_student['name']:\n",
    "            students[j + 1] = students[j]\n",
    "            j -= 1\n",
    "        students[j + 1] = current_student\n",
    "    return students\n",
    "sorted_students = insertion_sort_by_name(students)\n",
    "for student in sorted_students:\n",
    "    print(student)"
   ]
  },
  {
   "attachments": {},
   "cell_type": "markdown",
   "metadata": {},
   "source": [
    "                Selection Sort for Sorting by CGPA\n",
    "Selection Sort is a simple sorting algorithm that works by repeatedly selecting the smallest (or largest, depending on the order) element from an unsorted portion of the list and swapping it with the first unsorted element.using student data, we can use Selection Sort to sort the students by their CGPA. The algorithm scans the entire list to find the student with the smallest CGPA and swaps them with the student at the first unsorted position. This process continues until the whole list is sorted in ascending order based on CGPA."
   ]
  },
  {
   "cell_type": "code",
   "execution_count": 21,
   "metadata": {},
   "outputs": [
    {
     "name": "stdout",
     "output_type": "stream",
     "text": [
      "{'id': 'DBU1500011', 'name': 'Abel', 'dept': 'DS', 'cgpa': 2.74}\n",
      "{'id': 'DBU1500017', 'name': 'tedy', 'dept': 'DS', 'cgpa': 2.8}\n",
      "{'id': 'DBU1500003', 'name': 'kokeb', 'dept': 'IT', 'cgpa': 2.85}\n",
      "{'id': 'DBU1500007', 'name': 'muse', 'dept': 'CS', 'cgpa': 2.9}\n",
      "{'id': 'DBU1500020', 'name': 'tsinat', 'dept': 'CS', 'cgpa': 2.9}\n",
      "{'id': 'DBU1500014', 'name': 'hayat', 'dept': 'IS', 'cgpa': 2.95}\n",
      "{'id': 'DBU1500008', 'name': 'hermela', 'dept': 'CS', 'cgpa': 3.0}\n",
      "{'id': 'DBU1500016', 'name': 'samria', 'dept': 'CS', 'cgpa': 3.05}\n",
      "{'id': 'DBU1500004', 'name': 'Rahel', 'dept': 'IS', 'cgpa': 3.1}\n",
      "{'id': 'DBU1500019', 'name': 'bruki', 'dept': 'IT', 'cgpa': 3.1}\n",
      "{'id': 'DBU1500002', 'name': 'hemen', 'dept': 'CS', 'cgpa': 3.12}\n",
      "{'id': 'DBU1500012', 'name': 'robel', 'dept': 'CS', 'cgpa': 3.15}\n",
      "{'id': 'DBU1500015', 'name': 'halima', 'dept': 'IT', 'cgpa': 3.2}\n",
      "{'id': 'DBU1500009', 'name': 'heln', 'dept': 'IT', 'cgpa': 3.25}\n",
      "{'id': 'DBU1500018', 'name': 'makbel', 'dept': 'IS', 'cgpa': 3.3}\n",
      "{'id': 'DBU1500010', 'name': 'Dawit', 'dept': 'DS', 'cgpa': 3.34}\n",
      "{'id': 'DBU1500001', 'name': 'Bethel', 'dept': 'IS', 'cgpa': 3.4}\n",
      "{'id': 'DBU1500013', 'name': 'naomi', 'dept': 'DS', 'cgpa': 3.45}\n",
      "{'id': 'DBU1500021', 'name': 'henok', 'dept': 'DS', 'cgpa': 3.5}\n",
      "{'id': 'DBU1500006', 'name': 'kalkidan', 'dept': 'DS', 'cgpa': 3.6}\n"
     ]
    }
   ],
   "source": [
    "def selection_sort_by_cgpa(students):\n",
    "    n = len(students)\n",
    "    for i in range(n):\n",
    "        min_index = i\n",
    "        for j in range(i+1, n):\n",
    "            if students[j]['cgpa'] < students[min_index]['cgpa']:\n",
    "                min_index = j\n",
    "        students[i], students[min_index] = students[min_index], students[i]\n",
    "    return students\n",
    "sorted_students = selection_sort_by_cgpa(students)\n",
    "for student in sorted_students:\n",
    "    print(student)"
   ]
  },
  {
   "attachments": {},
   "cell_type": "markdown",
   "metadata": {},
   "source": [
    "                Analysis of Sorting Algorithms\n",
    "The three sorting algorithms implemented—Bubble Sort, Insertion Sort, and Selection Sort—each have different performance characteristics and trade-offs when sorting dictionary data  lists of students data . Below is a comparison of their performance, advantages, and disadvantages.               "
   ]
  },
  {
   "attachments": {},
   "cell_type": "markdown",
   "metadata": {},
   "source": [
    "                      A.Bubble Sort\n",
    "Performance:\n",
    "Time Complexity:\n",
    "\n",
    "Best Case: O(n) (when the list is already sorted)\n",
    "Average & Worst Case: due to nested loops\n",
    "Space Complexity: O(1) (in-place sorting, no extra memory)\n",
    "\n",
    "                            Advantages:\n",
    "Simple to implement and understand.\n",
    "Works well for nearly sorted data (best-case scenario).\n",
    "No additional memory required (in-place sorting).\n",
    "\n",
    "                    Disadvantages:\n",
    "Very inefficient for large datasets due to \n",
    "time complexity.\n",
    "Poor performance on reverse-sorted data.\n",
    "Many unnecessary swaps compared to other algorithms.\n",
    "                           Best Use Case:\n",
    "Small datasets or when simplicity is preferred over efficiency."
   ]
  },
  {
   "attachments": {},
   "cell_type": "markdown",
   "metadata": {},
   "source": [
    "                        B. Insertion Sort\n",
    "Performance:\n",
    "Time Complexity:\n",
    "\n",
    "Best Case:O(n) (already sorted list)\n",
    "Average & Worst Case: O(n2)\n",
    "Space Complexity: O(1) (in-place sorting)\n",
    "                     Advantages:\n",
    "Efficient for small or nearly sorted datasets.\n",
    "Stable (does not change the order of equal elements).\n",
    "Performs well when data is being continuously added (online sorting).\n",
    "Disadvantages:\n",
    "Still  O(n2) in the worst case, making it slow for large datasets.\n",
    "Requires shifting elements, which can be costly if the list is large.\n",
    "Best Use Case:\n",
    "Small datasets or partially sorted data where minimal swaps are needed."
   ]
  },
  {
   "attachments": {},
   "cell_type": "markdown",
   "metadata": {},
   "source": [
    "                                C. Selection Sort\n",
    "Performance:\n",
    "Time Complexity:\n",
    "\n",
    "Best, Average & Worst Case:O(n 2) (always performs nested loops)\n",
    "Space Complexity: O(1) (in-place sorting)\n",
    "\n",
    "                          Advantages:\n",
    "Simple to implement.\n",
    "Minimizes the number of swaps (only O(n) swaps in total).\n",
    "Performs better than Bubble Sort in practice due to fewer swaps.\n",
    "\n",
    "                                     Disadvantages:\n",
    "Still  in all cases, making it inefficient for large datasets.\n",
    "Not adaptive (does not take advantage of existing order in data).\n",
    "Unstable (may change the order of equal elements).\n",
    "\n",
    "Best Use Case:\n",
    "Situations where write operations are expensive (e.g., sorting in flash memory)."
   ]
  },
  {
   "attachments": {},
   "cell_type": "markdown",
   "metadata": {},
   "source": [
    "                      Final Statement on Sorting Algorithm Selection\n",
    "For sorting small datasets:\n",
    "Use Insertion Sort if the data is nearly sorted or stability (order preservation) matters.\n",
    "Use Selection Sort if minimizing swaps is critical (e.g., in memory-constrained systems).\n",
    "Avoid Bubble Sort—it is inefficient and rarely useful in practice.\n",
    "For larger datasets:\n",
    "\n",
    "Avoid all three (Bubble, Insertion, Selection) due to their  time complexity.\n",
    "\n",
    "Use built-in methods (e.g., Python’s sorted() or list.sort()) or advanced algorithms like Merge Sort/Quick Sort for better performance.\n",
    "Best choice among the three:\n",
    " Insertion Sort (most practical for small, dynamic, or partially sorted data).\n",
    " Bubble Sort (too slow).\n",
    " Selection Sort (only for specific cases where writes are expensive).\n",
    "\n",
    "Conclusion:-Insertion Sort is the most balanced and useful among these three for small-scale sorting."
   ]
  },
  {
   "attachments": {},
   "cell_type": "markdown",
   "metadata": {},
   "source": [
    "                                        THANK YOU !!!"
   ]
  }
 ],
 "metadata": {
  "kernelspec": {
   "display_name": "Python 3",
   "language": "python",
   "name": "python3"
  },
  "language_info": {
   "codemirror_mode": {
    "name": "ipython",
    "version": 3
   },
   "file_extension": ".py",
   "mimetype": "text/x-python",
   "name": "python",
   "nbconvert_exporter": "python",
   "pygments_lexer": "ipython3",
   "version": "3.11.1"
  },
  "orig_nbformat": 4
 },
 "nbformat": 4,
 "nbformat_minor": 2
}
